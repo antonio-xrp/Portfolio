{
 "cells": [
  {
   "cell_type": "markdown",
   "id": "9c566a56",
   "metadata": {},
   "source": [
    "### Análisis de salud cardiovascular\n",
    "\n",
    "Este dataset es proporcionado por un hospital en India, con 1000 filas y 12 distinas columnas. La data sirve como herramienta para detección y prevencio de enfermedades en el corazón. \n",
    "\n",
    "### Descripción de los datos\n",
    "\n",
    "| S.No | Attribute                                      | Explain                                                                 | Unit               | Type of Data                  |\n",
    "|------|-----------------------------------------------|-------------------------------------------------------------------------|--------------------|--------------------------------|\n",
    "| 1    | Patient Identification Number                  | patientid                                                               | Numeric            | Number                         |\n",
    "| 2    | Age                                           | age                                                                     | Numeric            | In Years                       |\n",
    "| 3    | Gender                                        | gender                                                                  | Binary             | 0 (female) / 1 (male)           |\n",
    "| 4    | Resting blood pressure                        | restingBP                                                               | Numeric            | 94-200 (in mm Hg)              |\n",
    "| 5    | Serum cholesterol                             | serumcholestrol                                                         | Numeric            | 126-564 (in mg/dl)             |\n",
    "| 6    | Fasting blood sugar                           | fastingbloodsugar                                                        | Binary             | 0 (false) / 1 (true) > 120 mg/dl |\n",
    "| 7    | Chest pain type                               | chestpain                                                               | Nominal            | 0 (typical angina), 1 (atypical angina), 2 (non-anginal pain), 3 (asymptomatic) |\n",
    "| 8    | Resting electrocardiogram results             | restingelectro                                                          | Nominal            | 0 (normal), 1 (ST-T wave abnormality), 2 (probable or definite left ventricular hypertrophy) |\n",
    "| 9    | Maximum heart rate achieved                   | maxheartrate                                                            | Numeric            | 71-202                         |\n",
    "| 10   | Exercise induced angina                       | exerciseangina                                                          | Binary             | 0 (no) / 1 (yes)               |\n",
    "| 11   | Oldpeak = ST                                  | oldpeak                                                                 | Numeric            | 0-6.2                          |\n",
    "| 12   | Slope of the peak exercise ST segment          | slope                                                                   | Nominal            | 1 (upsloping), 2 (flat), 3 (downsloping) |\n",
    "| 13   | Number of major vessels                       | noofmajorvessels                                                        | Numeric            | 0, 1, 2, 3                    |\n",
    "| 14   | Classification (target)                       | target                                                                  | Binary             | 0 (Absence of Heart Disease), 1 (Presence of Heart Disease) |\n",
    "\n",
    "\n",
    "### Description of the variables: \n",
    "1. Resting blood pressure: Blood pressure in the pressure in your arteries in resting.\n",
    "* Normal blood pressure: 90-120 mm Hg\n",
    "* High-normal blood pressure: 120-140 mm Hg\n",
    "* Stage-one: 140-160 mm Hg\n",
    "* Stage-two: 160-180 mm Hg\n",
    "* Stage-three: 180-200 mm hg\n",
    "2. Serum Cholesterol: Measures the amount of certain lipids in your blood.\n",
    "* Optimal: < 200mg/dL\n",
    "* Borderline high: 200-239 mg/dL\n",
    "* High: > 240 mg/dl "
   ]
  },
  {
   "cell_type": "markdown",
   "id": "c14eb640",
   "metadata": {},
   "source": [
    "### Import libraries"
   ]
  },
  {
   "cell_type": "code",
   "execution_count": 3,
   "id": "07300998",
   "metadata": {},
   "outputs": [],
   "source": [
    "import pandas as pd\n",
    "import numpy as np\n",
    "import seaborn as sns\n",
    "import matplotlib.pyplot as plt\n",
    "#%pip install missingno\n",
    "import missingno\n",
    "\n",
    "#from termcolor import colored\n",
    "\n",
    "from sklearn.preprocessing import MinMaxScaler\n",
    "from sklearn.model_selection import train_test_split, GridSearchCV, cross_val_score, KFold\n",
    "from sklearn.ensemble import RandomForestClassifier\n",
    "from sklearn import metrics\n",
    "from sklearn.linear_model import LogisticRegression\n",
    "from sklearn.svm import SVC\n",
    "from sklearn.tree import DecisionTreeClassifier\n",
    "from sklearn.neighbors import KNeighborsClassifier\n",
    "from sklearn.naive_bayes import GaussianNB\n",
    "\n",
    "import warnings\n",
    "warnings.filterwarnings(\"ignore\")\n",
    "\n",
    "\n",
    "# Apariencia de los gráficos\n",
    "%matplotlib inline\n",
    "sns.set_style(style='white')\n",
    "plt.style.use('dark_background')\n",
    "sns.set_context(context='notebook')\n",
    "plt.rcParams['figure.figsize'] = (13, 11.4)"
   ]
  }
 ],
 "metadata": {
  "kernelspec": {
   "display_name": "portfolio",
   "language": "python",
   "name": "python3"
  },
  "language_info": {
   "codemirror_mode": {
    "name": "ipython",
    "version": 3
   },
   "file_extension": ".py",
   "mimetype": "text/x-python",
   "name": "python",
   "nbconvert_exporter": "python",
   "pygments_lexer": "ipython3",
   "version": "3.10.4"
  }
 },
 "nbformat": 4,
 "nbformat_minor": 5
}
