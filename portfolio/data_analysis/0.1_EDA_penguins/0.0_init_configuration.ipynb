{
 "cells": [
  {
   "cell_type": "code",
   "execution_count": 9,
   "id": "3e406781",
   "metadata": {},
   "outputs": [
    {
     "name": "stdout",
     "output_type": "stream",
     "text": [
      "The autoreload extension is already loaded. To reload it, use:\n",
      "  %reload_ext autoreload\n"
     ]
    }
   ],
   "source": [
    "%load_ext autoreload\n",
    "%autoreload 2"
   ]
  },
  {
   "cell_type": "markdown",
   "id": "16cd47f1",
   "metadata": {},
   "source": [
    "### Importamos librerias\n"
   ]
  },
  {
   "cell_type": "code",
   "execution_count": 10,
   "id": "a32a8cc7",
   "metadata": {},
   "outputs": [],
   "source": [
    "import pandas as pd\n",
    "import seaborn as sns\n",
    "#pip install empiricaldist\n",
    "import empiricaldist\n",
    "#pip install pyjanitor\n",
    "import janitor\n",
    "import matplotlib.pyplot as plt\n",
    "import numpy as np\n",
    "#pip install palmerpenguins\n",
    "import palmerpenguins\n",
    "import pandas as pd\n",
    "import scipy.stats\n",
    "#pip install scikit-learn\n",
    "import sklearn.metrics\n",
    "#pip install statsmodels\n",
    "import statsmodels.formula.api as smf\n",
    "import statsmodels.stats as ss\n",
    "#pip install session-info\n",
    "import session_info\n",
    "\n",
    "import warnings\n",
    "warnings.filterwarnings('ignore')"
   ]
  },
  {
   "cell_type": "markdown",
   "id": "bc8ba7c5",
   "metadata": {},
   "source": [
    "### Establecer apariencia general de los gráficos\n"
   ]
  },
  {
   "cell_type": "code",
   "execution_count": 11,
   "id": "f702346f",
   "metadata": {},
   "outputs": [],
   "source": [
    "# Mostrar graficos directamente en el notebook\n",
    "%matplotlib inline \n",
    "# Configuramos el estilo visual de los gráficos\n",
    "sns.set_style(style='whitegrid')\n",
    "# Ajustamos el tamaño de los elementos del gráfico al estilo notebook\n",
    "sns.set_context(context='notebook')\n",
    "# Definimos tamaño por defacto de las gráficos\n",
    "plt.rcParams['figure.figsize'] = (12,6)\n",
    "\n",
    "penguin_color = {'Adelie' : '#ff6602ff',\n",
    "                'Gentoo':'#0f7175ff',\n",
    "                'Chinstrap':'#c65dc9ff',\n",
    "                'Torgersen': '#955FC8', \n",
    "                'Biscoe': '#94e2c3', \n",
    "                'Dream': '#345469',\n",
    "                'female':'pink',\n",
    "                'male':'skyblue',\n",
    "                2007:'#ead3c9',        \n",
    "                2008:'#a86790',        \n",
    "                2009:'#2e2541'}\n",
    "\n"
   ]
  }
 ],
 "metadata": {
  "kernelspec": {
   "display_name": "portfolio",
   "language": "python",
   "name": "python3"
  },
  "language_info": {
   "codemirror_mode": {
    "name": "ipython",
    "version": 3
   },
   "file_extension": ".py",
   "mimetype": "text/x-python",
   "name": "python",
   "nbconvert_exporter": "python",
   "pygments_lexer": "ipython3",
   "version": "3.10.4"
  }
 },
 "nbformat": 4,
 "nbformat_minor": 5
}
