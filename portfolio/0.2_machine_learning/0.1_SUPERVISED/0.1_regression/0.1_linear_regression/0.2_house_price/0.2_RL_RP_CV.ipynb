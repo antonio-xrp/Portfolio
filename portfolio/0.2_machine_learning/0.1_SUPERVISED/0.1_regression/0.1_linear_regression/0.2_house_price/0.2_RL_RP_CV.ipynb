{
 "cells": [
  {
   "cell_type": "code",
   "execution_count": 92,
   "id": "f3d1c185",
   "metadata": {},
   "outputs": [],
   "source": [
    "%run '0.0_init_configuration.ipynb'"
   ]
  },
  {
   "cell_type": "markdown",
   "id": "1305ca80",
   "metadata": {},
   "source": [
    "### Cross Validation"
   ]
  },
  {
   "cell_type": "code",
   "execution_count": 93,
   "id": "7ba6cc2a",
   "metadata": {},
   "outputs": [
    {
     "data": {
      "text/html": [
       "<div>\n",
       "<style scoped>\n",
       "    .dataframe tbody tr th:only-of-type {\n",
       "        vertical-align: middle;\n",
       "    }\n",
       "\n",
       "    .dataframe tbody tr th {\n",
       "        vertical-align: top;\n",
       "    }\n",
       "\n",
       "    .dataframe thead th {\n",
       "        text-align: right;\n",
       "    }\n",
       "</style>\n",
       "<table border=\"1\" class=\"dataframe\">\n",
       "  <thead>\n",
       "    <tr style=\"text-align: right;\">\n",
       "      <th></th>\n",
       "      <th>CRIM</th>\n",
       "      <th>ZN</th>\n",
       "      <th>INDUS</th>\n",
       "      <th>CHAS</th>\n",
       "      <th>NOX</th>\n",
       "      <th>RM</th>\n",
       "      <th>AGE</th>\n",
       "      <th>DIS</th>\n",
       "      <th>RAD</th>\n",
       "      <th>TAX</th>\n",
       "      <th>PTRATIO</th>\n",
       "      <th>B</th>\n",
       "      <th>LSTAT</th>\n",
       "      <th>MEDV</th>\n",
       "    </tr>\n",
       "  </thead>\n",
       "  <tbody>\n",
       "    <tr>\n",
       "      <th>0</th>\n",
       "      <td>0.00632</td>\n",
       "      <td>18.0</td>\n",
       "      <td>2.31</td>\n",
       "      <td>0.0</td>\n",
       "      <td>0.538</td>\n",
       "      <td>6.575</td>\n",
       "      <td>65.2</td>\n",
       "      <td>4.0900</td>\n",
       "      <td>1.0</td>\n",
       "      <td>296.0</td>\n",
       "      <td>15.3</td>\n",
       "      <td>396.90</td>\n",
       "      <td>4.98</td>\n",
       "      <td>24.0</td>\n",
       "    </tr>\n",
       "    <tr>\n",
       "      <th>1</th>\n",
       "      <td>0.02731</td>\n",
       "      <td>0.0</td>\n",
       "      <td>7.07</td>\n",
       "      <td>0.0</td>\n",
       "      <td>0.469</td>\n",
       "      <td>6.421</td>\n",
       "      <td>78.9</td>\n",
       "      <td>4.9671</td>\n",
       "      <td>2.0</td>\n",
       "      <td>242.0</td>\n",
       "      <td>17.8</td>\n",
       "      <td>396.90</td>\n",
       "      <td>9.14</td>\n",
       "      <td>21.6</td>\n",
       "    </tr>\n",
       "    <tr>\n",
       "      <th>2</th>\n",
       "      <td>0.02729</td>\n",
       "      <td>0.0</td>\n",
       "      <td>7.07</td>\n",
       "      <td>0.0</td>\n",
       "      <td>0.469</td>\n",
       "      <td>7.185</td>\n",
       "      <td>61.1</td>\n",
       "      <td>4.9671</td>\n",
       "      <td>2.0</td>\n",
       "      <td>242.0</td>\n",
       "      <td>17.8</td>\n",
       "      <td>392.83</td>\n",
       "      <td>4.03</td>\n",
       "      <td>34.7</td>\n",
       "    </tr>\n",
       "    <tr>\n",
       "      <th>3</th>\n",
       "      <td>0.03237</td>\n",
       "      <td>0.0</td>\n",
       "      <td>2.18</td>\n",
       "      <td>0.0</td>\n",
       "      <td>0.458</td>\n",
       "      <td>6.998</td>\n",
       "      <td>45.8</td>\n",
       "      <td>6.0622</td>\n",
       "      <td>3.0</td>\n",
       "      <td>222.0</td>\n",
       "      <td>18.7</td>\n",
       "      <td>394.63</td>\n",
       "      <td>2.94</td>\n",
       "      <td>33.4</td>\n",
       "    </tr>\n",
       "    <tr>\n",
       "      <th>4</th>\n",
       "      <td>0.06905</td>\n",
       "      <td>0.0</td>\n",
       "      <td>2.18</td>\n",
       "      <td>0.0</td>\n",
       "      <td>0.458</td>\n",
       "      <td>7.147</td>\n",
       "      <td>54.2</td>\n",
       "      <td>6.0622</td>\n",
       "      <td>3.0</td>\n",
       "      <td>222.0</td>\n",
       "      <td>18.7</td>\n",
       "      <td>396.90</td>\n",
       "      <td>5.33</td>\n",
       "      <td>36.2</td>\n",
       "    </tr>\n",
       "  </tbody>\n",
       "</table>\n",
       "</div>"
      ],
      "text/plain": [
       "      CRIM    ZN  INDUS  CHAS    NOX     RM   AGE     DIS  RAD    TAX  \\\n",
       "0  0.00632  18.0   2.31   0.0  0.538  6.575  65.2  4.0900  1.0  296.0   \n",
       "1  0.02731   0.0   7.07   0.0  0.469  6.421  78.9  4.9671  2.0  242.0   \n",
       "2  0.02729   0.0   7.07   0.0  0.469  7.185  61.1  4.9671  2.0  242.0   \n",
       "3  0.03237   0.0   2.18   0.0  0.458  6.998  45.8  6.0622  3.0  222.0   \n",
       "4  0.06905   0.0   2.18   0.0  0.458  7.147  54.2  6.0622  3.0  222.0   \n",
       "\n",
       "   PTRATIO       B  LSTAT  MEDV  \n",
       "0     15.3  396.90   4.98  24.0  \n",
       "1     17.8  396.90   9.14  21.6  \n",
       "2     17.8  392.83   4.03  34.7  \n",
       "3     18.7  394.63   2.94  33.4  \n",
       "4     18.7  396.90   5.33  36.2  "
      ]
     },
     "execution_count": 93,
     "metadata": {},
     "output_type": "execute_result"
    }
   ],
   "source": [
    "df = pickle.load(open('./boston_housing_clean.pickle', 'rb'))\n",
    "\n",
    "df.keys()\n",
    "\n",
    "df_data = df['dataframe']\n",
    "df_description = df['description']\n",
    "\n",
    "df_data.head()"
   ]
  },
  {
   "cell_type": "markdown",
   "id": "af783af5",
   "metadata": {},
   "source": [
    "**Coding this up** \n",
    "\n",
    "The Kfold object in Scikit Learn tells the cross validation object (see below) how to split up the data.\n",
    "\n"
   ]
  },
  {
   "cell_type": "code",
   "execution_count": 94,
   "id": "45956693",
   "metadata": {},
   "outputs": [],
   "source": [
    "# Definimos nuestras variables dependientes e independientes\n",
    "X = df_data.drop('MEDV', axis=1)\n",
    "y = df_data.MEDV"
   ]
  },
  {
   "cell_type": "code",
   "execution_count": 95,
   "id": "cd6ccd09",
   "metadata": {},
   "outputs": [
    {
     "name": "stdout",
     "output_type": "stream",
     "text": [
      "Train Index:  [ 0  2  3  4  5  8  9 10 11 12] 337\n",
      "Train Index:  [ 1  6  7 21 22 23 35 37 38 40] 169\n",
      " \n",
      "Train Index:  [ 0  1  3  4  6  7  9 11 13 15] 337\n",
      "Train Index:  [ 2  5  8 10 12 14 26 27 28 29] 169\n",
      " \n",
      "Train Index:  [ 1  2  5  6  7  8 10 12 14 21] 338\n",
      "Train Index:  [ 0  3  4  9 11 13 15 16 17 18] 168\n",
      " \n"
     ]
    }
   ],
   "source": [
    "#Mezclamos los datos y dividimos en 3 grupos\n",
    "kf = KFold(shuffle=True, random_state=7208, n_splits=3)\n",
    "\n",
    "# Prueba de conjuntos o pliegues con KF para las 10 primeras unidades\n",
    "# KF devuelve los indices de las filas que se debe usar para entrenar y probar\n",
    "\n",
    "for train_index, test_index in kf.split(X):\n",
    "    print(f'Train Index: ', train_index[:10], len(train_index))\n",
    "    print(f'Train Index: ', test_index[:10], len(test_index))\n",
    "    print(' ')"
   ]
  },
  {
   "cell_type": "code",
   "execution_count": 96,
   "id": "e390dc97",
   "metadata": {},
   "outputs": [
    {
     "data": {
      "text/plain": [
       "[0.7073228343551847, 0.6754993058479377, 0.7751555930162422]"
      ]
     },
     "execution_count": 96,
     "metadata": {},
     "output_type": "execute_result"
    }
   ],
   "source": [
    "scores = []\n",
    "lr = LinearRegression()\n",
    "\n",
    "# predecir para las 3 folds la r2\n",
    "\n",
    "for train_index, test_index in kf.split(X):\n",
    "    X_train, X_test, y_train, y_test = (X.iloc[train_index, :],\n",
    "                                        X.iloc[test_index, :],\n",
    "                                        y[train_index],\n",
    "                                        y[test_index])\n",
    "    \n",
    "    lr.fit(X_train, y_train)\n",
    "    y_pred = lr.predict(X_test)\n",
    "    score = r2_score(y_test.values, y_pred)\n",
    "    scores.append(score)\n",
    "\n",
    "scores"
   ]
  },
  {
   "cell_type": "markdown",
   "id": "ceb175a2",
   "metadata": {},
   "source": [
    "(same scores, because for vanilla linear regression with no regularization, scaling actually doesn't matter for performance)\n",
    "\n",
    "This is getting quite cumbersome!\n",
    "\n",
    "Very luckily, SciKit Learn has some wonderful functions that handle a lot of this for us."
   ]
  },
  {
   "cell_type": "markdown",
   "id": "a7cf542d",
   "metadata": {},
   "source": [
    "\n",
    "**Discussion (Part 2):**\n",
    "\n",
    "Now suppose we want to do the same, but appropriately scaling our data as we go through the folds.\n",
    "\n",
    "What would the steps be now?\n",
    "\n",
    "**Coding this up**\n"
   ]
  },
  {
   "cell_type": "code",
   "execution_count": 97,
   "id": "de4ceea9",
   "metadata": {},
   "outputs": [
    {
     "data": {
      "text/plain": [
       "[0.7073228343551848, 0.6754993058479384, 0.7751555930162419]"
      ]
     },
     "execution_count": 97,
     "metadata": {},
     "output_type": "execute_result"
    }
   ],
   "source": [
    "scores = []\n",
    "\n",
    "lr = LinearRegression()\n",
    "s = StandardScaler()\n",
    "\n",
    "for train_index, test_index, in kf.split(X):\n",
    "    X_train, X_test, y_train, y_test = (X.iloc[train_index, :],\n",
    "                                        X.iloc[test_index, :],\n",
    "                                        y[train_index],\n",
    "                                        y[test_index])\n",
    "    \n",
    "    X_train_s = s.fit_transform(X_train)\n",
    "    lr.fit(X_train_s, y_train)\n",
    "    X_test_s = s.transform(X_test)\n",
    "    y_pred = lr.predict(X_test_s)\n",
    "    score = r2_score(y_test.values, y_pred)\n",
    "    scores.append(score)\n",
    "\n",
    "scores"
   ]
  },
  {
   "cell_type": "markdown",
   "id": "dc7b0e31",
   "metadata": {},
   "source": [
    "(same scores, because for vanilla linear regression with no regularization, scaling actually doesn't matter for performance)\n",
    "\n",
    "This is getting quite cumbersome!\n",
    "\n",
    "Very luckily, SciKit Learn has some wonderful functions that handle a lot of this for us.\n",
    "\n",
    "**Pipeline and Cross_val_predict**\n",
    "\n",
    "Pipeline lets you chain together multiple operators on your data that both have a fit method."
   ]
  },
  {
   "cell_type": "code",
   "execution_count": 98,
   "id": "12ca4c0b",
   "metadata": {},
   "outputs": [],
   "source": [
    "s = StandardScaler()\n",
    "lr = LinearRegression()\n",
    "\n",
    "# Combine multiple processing steps into a pipeline\n",
    "estimator = Pipeline([('scaler', s),\n",
    "                      ('regression', lr)])"
   ]
  },
  {
   "cell_type": "markdown",
   "id": "74cfc0b1",
   "metadata": {},
   "source": [
    "cross_val_predict is a function that does K-fold cross validation for us, appropriately fitting and transforming at every step of the way."
   ]
  },
  {
   "cell_type": "code",
   "execution_count": 99,
   "id": "ee9c3fc5",
   "metadata": {},
   "outputs": [
    {
     "data": {
      "text/plain": [
       "KFold(n_splits=3, random_state=7208, shuffle=True)"
      ]
     },
     "execution_count": 99,
     "metadata": {},
     "output_type": "execute_result"
    }
   ],
   "source": [
    "kf"
   ]
  },
  {
   "cell_type": "code",
   "execution_count": 100,
   "id": "30850fd4",
   "metadata": {},
   "outputs": [
    {
     "data": {
      "text/plain": [
       "0.717155200286612"
      ]
     },
     "execution_count": 100,
     "metadata": {},
     "output_type": "execute_result"
    }
   ],
   "source": [
    "prediction = cross_val_predict(estimator, X, y, cv=kf)\n",
    "\n",
    "r2_score(y, prediction)"
   ]
  },
  {
   "cell_type": "code",
   "execution_count": 101,
   "id": "6160ec21",
   "metadata": {},
   "outputs": [
    {
     "data": {
      "text/plain": [
       "np.float64(0.7193259110731217)"
      ]
     },
     "execution_count": 101,
     "metadata": {},
     "output_type": "execute_result"
    }
   ],
   "source": [
    "np.mean(scores)"
   ]
  },
  {
   "cell_type": "markdown",
   "id": "da92623a",
   "metadata": {},
   "source": [
    "Note that `cross_val_predict` doesn't use the same model for all steps; the predictions for each row are made when that row is in the validation set. We really have the collected results of 3 (i.e. kf.num_splits) different models.\n",
    "\n",
    "When we are done, `estimator` is still not fitted. If we want to predict on new data, we still have to train our `estimator`.\n",
    "\n"
   ]
  },
  {
   "cell_type": "markdown",
   "id": "abaa5649",
   "metadata": {},
   "source": [
    "### Lasso Hyperparametro\n",
    "\n",
    "Buscamos el mejor alpha (el que da mejor rendimiento) para una regression Lasso, usando validación cruzada y evaluando el R²."
   ]
  },
  {
   "cell_type": "code",
   "execution_count": 102,
   "id": "222e2bea",
   "metadata": {},
   "outputs": [
    {
     "data": {
      "text/plain": [
       "[(np.float64(1e-09), 0.7171552003197053),\n",
       " (np.float64(1e-08), 0.7171552006181545),\n",
       " (np.float64(1e-07), 0.7171552035925728),\n",
       " (np.float64(1e-06), 0.7171552334129103),\n",
       " (np.float64(1e-05), 0.7171555294105064),\n",
       " (np.float64(0.0001), 0.7171585099392994),\n",
       " (np.float64(0.001), 0.7171871457953388),\n",
       " (np.float64(0.01), 0.7173967315500526),\n",
       " (np.float64(0.1), 0.7128415167346231),\n",
       " (np.float64(1.0), 0.6567318068708903)]"
      ]
     },
     "execution_count": 102,
     "metadata": {},
     "output_type": "execute_result"
    }
   ],
   "source": [
    "# Probamos 10 valores de alpha, desde 0.000000001 hasta 1 usando geomspace\n",
    "alphas = np.geomspace(1e-9, 1e0, num=10)\n",
    "\n",
    "scores = []\n",
    "coefs = []\n",
    "\n",
    "# The code below tunes alpha hyperparameter for lasso regression\n",
    "\n",
    "for alpha in alphas:\n",
    "    las = Lasso(alpha = alpha, max_iter=100000)\n",
    "\n",
    "    estimator = Pipeline([('sclaer', s),\n",
    "                          ('lass_regression', las)])\n",
    "    \n",
    "    prediction = cross_val_predict(estimator, X , y, cv=kf)\n",
    "\n",
    "    score = r2_score(y,prediction)\n",
    "    scores.append(score)\n",
    "\n",
    "# Nos muestra resultados para cada alpha\n",
    "list(zip(alphas, scores))\n"
   ]
  },
  {
   "cell_type": "markdown",
   "id": "02cf6d81",
   "metadata": {},
   "source": [
    "Casi todos los coeficientes son diferentes a cero,y además casi todas las variables están siendo usadas."
   ]
  },
  {
   "cell_type": "code",
   "execution_count": 103,
   "id": "6286746f",
   "metadata": {},
   "outputs": [
    {
     "data": {
      "text/plain": [
       "array([-1.07170372e-01,  4.63952623e-02,  2.08588308e-02,  2.68854318e+00,\n",
       "       -1.77954207e+01,  3.80475296e+00,  7.50802707e-04, -1.47575348e+00,\n",
       "        3.05654279e-01, -1.23293755e-02, -9.53459908e-01,  9.39253013e-03,\n",
       "       -5.25467196e-01])"
      ]
     },
     "execution_count": 103,
     "metadata": {},
     "output_type": "execute_result"
    }
   ],
   "source": [
    "Lasso(alpha=1e-6).fit(X,y).coef_"
   ]
  },
  {
   "cell_type": "markdown",
   "id": "53037d9f",
   "metadata": {},
   "source": [
    "Algunos coeficientes son 0 -> Lasso está eliminando variables, lo que nos dice que el modelo esta simplicandose.\n"
   ]
  },
  {
   "cell_type": "code",
   "execution_count": 104,
   "id": "72c0effb",
   "metadata": {},
   "outputs": [
    {
     "data": {
      "text/plain": [
       "array([-0.06342255,  0.04916867, -0.        ,  0.        , -0.        ,\n",
       "        0.94678567,  0.02092737, -0.66900864,  0.26417501, -0.01520915,\n",
       "       -0.72319901,  0.00829117, -0.76143296])"
      ]
     },
     "execution_count": 104,
     "metadata": {},
     "output_type": "execute_result"
    }
   ],
   "source": [
    "Lasso(alpha=1.0).fit(X,y).coef_"
   ]
  },
  {
   "cell_type": "code",
   "execution_count": 105,
   "id": "bcfa1419",
   "metadata": {},
   "outputs": [
    {
     "data": {
      "image/png": "[encoded data removed]",
      "text/plain": [
       "<Figure size 1500x500 with 1 Axes>"
      ]
     },
     "metadata": {},
     "output_type": "display_data"
    }
   ],
   "source": [
    "# Graficamos\n",
    "plt.semilogx(alphas, scores, '-o')\n",
    "plt.title('Lasso Regression', fontsize=15)\n",
    "plt.xlabel('$\\\\alpha$')\n",
    "plt.ylabel('$R²$')\n",
    "plt.show()"
   ]
  },
  {
   "cell_type": "markdown",
   "id": "fe410bfd",
   "metadata": {},
   "source": [
    "**Using Polynomial Features**"
   ]
  },
  {
   "cell_type": "code",
   "execution_count": 106,
   "id": "72e90a76",
   "metadata": {},
   "outputs": [
    {
     "data": {
      "text/plain": [
       "[(np.float64(0.001), 0.8290117603442988),\n",
       " (np.float64(0.01), 0.8523861867314317),\n",
       " (np.float64(0.1), 0.7978921415440875),\n",
       " (np.float64(1.0), 0.7065601828070518),\n",
       " (np.float64(10.0), -0.0007159193061538893)]"
      ]
     },
     "execution_count": 106,
     "metadata": {},
     "output_type": "execute_result"
    }
   ],
   "source": [
    "# Usamos polynomialfeatures para aumentarla capacidad del modelo para patrones mas complejos.\n",
    "pf = PolynomialFeatures(degree=2)\n",
    "\n",
    "# Probamos 5 valores de alpha, desde 0.001 hasta 10, distribuidos logaritmicamente.\n",
    "alphas = np.geomspace(0.001, 10, 5)\n",
    "scores = []\n",
    "\n",
    "for alpha in alphas:\n",
    "    las = Lasso(alpha = alpha, max_iter=100000)\n",
    "    estimator = Pipeline([('make_higher_degree', pf),\n",
    "                          ('scaler', s),\n",
    "                          ('lasso_regression', las)])\n",
    "    \n",
    "    predictions = cross_val_predict(estimator, X ,y, cv=kf)\n",
    "    score = r2_score(y, predictions)\n",
    "    scores.append(score)\n",
    "\n",
    "# Nos muestra resultados para cada alpha:\n",
    "list(zip(alphas, scores))"
   ]
  },
  {
   "cell_type": "markdown",
   "id": "8c76b34f",
   "metadata": {},
   "source": [
    "- Cuando alpha = 0.01. el modelo logra mejor rendimiento: R² = 0.8524\n",
    "- Valores muy grandes de alpha como 10 penalizan demasiado al modelo, practicamente no aprende.\n",
    "- Lasso controla la complejidad, lo cual es esencial al usar polinomias (porque aumente mucho el número de variables)"
   ]
  },
  {
   "cell_type": "code",
   "execution_count": 107,
   "id": "1f711ff3",
   "metadata": {},
   "outputs": [
    {
     "data": {
      "image/png": "[encoded data removed]",
      "text/plain": [
       "<Figure size 1500x500 with 1 Axes>"
      ]
     },
     "metadata": {},
     "output_type": "display_data"
    }
   ],
   "source": [
    "#Graficamos\n",
    "plt.semilogx(alphas, scores, '-o')\n",
    "plt.title('Lasso Regression using polynomial features', fontsize=15)\n",
    "plt.xlabel('$\\\\alpha$')\n",
    "plt.ylabel('$R²$')\n",
    "plt.show()"
   ]
  },
  {
   "cell_type": "markdown",
   "id": "b23bb943",
   "metadata": {},
   "source": [
    "Ya encontramos que `alpha = 0.01` era el mejor valor con validación cruzada. Ahora entrenamos un modelo final con todos los datos disponibles y ese alpha óptimo\n",
    "\n"
   ]
  },
  {
   "cell_type": "code",
   "execution_count": 108,
   "id": "661e0480",
   "metadata": {},
   "outputs": [
    {
     "name": "stdout",
     "output_type": "stream",
     "text": [
      "R² = 0.9032551408154241\n"
     ]
    }
   ],
   "source": [
    "# Once we have found the hyperparameter (alpha 1-e-2 = 0.01)\n",
    "# Make the model and train it on all the data\n",
    "# The release it into the wild\n",
    "best_estimator = Pipeline([('make_higher_degree', PolynomialFeatures(degree=2)),\n",
    "                           ('scaler', s),\n",
    "                           ('lasso_regression', Lasso(alpha=0.01, max_iter=100000))])\n",
    "\n",
    "best_estimator.fit(X,y)\n",
    "print(f'R² = {best_estimator.score(X,y)}')"
   ]
  },
  {
   "cell_type": "code",
   "execution_count": 109,
   "id": "187eb3c3",
   "metadata": {},
   "outputs": [],
   "source": [
    "# Otra manera de optimizar el codigo\n",
    "# from sklearn.linear_model import LassoCV\n",
    "\n",
    "# best_estimator = Pipeline([\n",
    "#     ('make_higher_degree', PolynomialFeatures(degree=2)),\n",
    "#     ('scaler', s),\n",
    "#     ('lasso_cv', LassoCV(alphas=alphas, max_iter=100000, cv=kf))\n",
    "# ])\n",
    "\n",
    "# best_estimator.fit(X, y)\n",
    "# print(f'Mejor alpha: {best_estimator.named_steps[\"lasso_cv\"].alpha_}')\n",
    "# print(f'R² final: {best_estimator.score(X, y)}')\n"
   ]
  },
  {
   "cell_type": "markdown",
   "id": "b159fdd0",
   "metadata": {},
   "source": [
    "Devuelve todos los coeficientes del modelo. Muchos son 0, y eso es justamente el poder de Lasso:\n",
    "\n",
    "🔥 Elimina automáticamente las variables irrelevantes.\n",
    "\n",
    "Eso ayuda a que el modelo sea más simple y generalice mejor."
   ]
  },
  {
   "cell_type": "code",
   "execution_count": 110,
   "id": "25707584",
   "metadata": {},
   "outputs": [
    {
     "data": {
      "text/plain": [
       "array([ 0.00000000e+00, -0.00000000e+00, -0.00000000e+00,  0.00000000e+00,\n",
       "        4.61127587e+00,  0.00000000e+00,  6.24240557e-01,  0.00000000e+00,\n",
       "       -7.22878514e+00,  9.74968793e+00,  0.00000000e+00,  0.00000000e+00,\n",
       "        6.34548325e-01,  0.00000000e+00,  9.95741679e-01, -5.51374291e-03,\n",
       "       -0.00000000e+00,  2.44370838e+00, -2.40444044e+00, -0.00000000e+00,\n",
       "       -0.00000000e+00, -2.23044443e-01, -0.00000000e+00, -0.00000000e+00,\n",
       "       -0.00000000e+00, -2.88128934e-01,  5.17203914e-01,  3.07715719e-01,\n",
       "       -3.39853933e-01, -9.86590910e-02, -0.00000000e+00,  2.72847487e-01,\n",
       "       -0.00000000e+00, -6.39829763e-01, -3.16474346e-01,  1.44555554e+00,\n",
       "        0.00000000e+00, -0.00000000e+00, -8.84630187e-01,  1.32081558e+00,\n",
       "        0.00000000e+00,  0.00000000e+00, -0.00000000e+00,  2.63148300e+00,\n",
       "       -2.62941147e-01,  0.00000000e+00,  9.08410143e-01, -8.17144528e-01,\n",
       "        0.00000000e+00, -4.31628234e+00,  5.53254405e-01, -2.91912598e+00,\n",
       "       -4.68486241e+00,  5.80360142e-01,  6.93705854e-01, -1.43087388e+00,\n",
       "       -0.00000000e+00,  0.00000000e+00,  1.80219873e+00, -7.93324201e-01,\n",
       "        0.00000000e+00, -2.99366807e-01, -0.00000000e+00, -0.00000000e+00,\n",
       "       -9.26619562e-01, -0.00000000e+00, -1.52207140e+00,  0.00000000e+00,\n",
       "        1.59132103e-01,  8.59406852e+00, -1.79580442e+00,  0.00000000e+00,\n",
       "       -4.43064063e+00, -6.67704537e+00, -2.78398024e+00,  4.36511083e-01,\n",
       "       -2.07418701e+00, -0.00000000e+00,  4.42278783e-01,  1.97121461e+00,\n",
       "        0.00000000e+00, -0.00000000e+00, -5.63885266e-01, -1.90366836e+00,\n",
       "        3.79255941e+00, -0.00000000e+00, -3.58998427e-01,  3.99107900e-01,\n",
       "       -0.00000000e+00,  8.70546159e-01, -0.00000000e+00,  0.00000000e+00,\n",
       "        0.00000000e+00,  0.00000000e+00, -4.54568143e+00,  0.00000000e+00,\n",
       "        5.12959518e+00,  0.00000000e+00, -6.41075173e-01,  3.19584847e-01,\n",
       "        1.08275771e+00,  0.00000000e+00, -4.07836880e-01, -1.15427697e+00,\n",
       "        5.63522883e+00])"
      ]
     },
     "execution_count": 110,
     "metadata": {},
     "output_type": "execute_result"
    }
   ],
   "source": [
    "best_estimator.named_steps['lasso_regression'].coef_"
   ]
  },
  {
   "cell_type": "markdown",
   "id": "c1d138ad",
   "metadata": {},
   "source": [
    "### Regression Ridge\n",
    "🔹 Lasso (L1): es más sensible, así que necesita alphas pequeños (como 0.01 o 0.001) para no borrar variables importantes.\n",
    "\n",
    "🔹 Ridge (L2): puede usar alphas más grandes (como 1, 10 o incluso 100), porque no elimina variables, solo reduce sus coeficientes.\n",
    "\n",
    "Which model, Ridge or Lasso, performs best with its optimal hyperparameters on the Boston dataset?"
   ]
  },
  {
   "cell_type": "code",
   "execution_count": 111,
   "id": "d1b29068",
   "metadata": {},
   "outputs": [
    {
     "data": {
      "text/plain": [
       "[(np.float64(4.0), 0.8484185023768225),\n",
       " (np.float64(4.353593602921549), 0.8472722908297783),\n",
       " (np.float64(4.7384443148498585), 0.84605780187115),\n",
       " (np.float64(5.157315214232582), 0.8447705285265277),\n",
       " (np.float64(5.6132136312332355), 0.8434059755297258),\n",
       " (np.float64(6.109412739192265), 0.8419597863173682),\n",
       " (np.float64(6.649475054738714), 0.8404278779480383),\n",
       " (np.float64(7.237278015274221), 0.8388065800508419),\n",
       " (np.float64(7.877041817465654), 0.8370927733842062),\n",
       " (np.float64(8.573359716616), 0.8352840232099317),\n",
       " (np.float64(9.331231004451181), 0.8333787024964523),\n",
       " (np.float64(10.156096902090468), 0.8313760999886395),\n",
       " (np.float64(11.053879625898109), 0.8292765084384812),\n",
       " (np.float64(12.03102490669371), 0.8270812887878123),\n",
       " (np.float64(13.094548267592895), 0.8247929068221261),\n",
       " (np.float64(14.252085392734966), 0.8224149397493326),\n",
       " (np.float64(15.511946948525646), 0.8199520512603051),\n",
       " (np.float64(16.88317825098993), 0.8174099348478365),\n",
       " (np.float64(18.3756242076235), 0.8147952264361643),\n",
       " (np.float64(20.0), 0.8121153886374777)]"
      ]
     },
     "execution_count": 111,
     "metadata": {},
     "output_type": "execute_result"
    }
   ],
   "source": [
    "pf = PolynomialFeatures(degree=2)\n",
    "\n",
    "# Se prueba 20 valores de aplha entre 4 y 20\n",
    "alphas = np.geomspace(4,20,20)\n",
    "\n",
    "scores = []\n",
    "\n",
    "for alpha in alphas:\n",
    "    ridge = Ridge(alpha = alpha, max_iter=100000)\n",
    "    estimator = Pipeline([('PolynomialFeatures', pf),\n",
    "                          ('scaler', s),\n",
    "                          ('ridge_regression', ridge)])\n",
    "    \n",
    "    predictions = cross_val_predict(estimator, X, y, cv=kf)\n",
    "    score = r2_score(y, predictions)\n",
    "    scores.append(score)\n",
    "\n",
    "# Nos muestra resultados para cada alpha\n",
    "list(zip(alphas, scores))"
   ]
  },
  {
   "cell_type": "code",
   "execution_count": 112,
   "id": "69c797a7",
   "metadata": {},
   "outputs": [
    {
     "data": {
      "image/png": "[encoded data removed]",
      "text/plain": [
       "<Figure size 1500x500 with 1 Axes>"
      ]
     },
     "metadata": {},
     "output_type": "display_data"
    }
   ],
   "source": [
    "plt.plot(alphas,scores)\n",
    "plt.title('Ridge Regression', fontsize=15)\n",
    "plt.xlabel('$\\\\alpha$')\n",
    "plt.ylabel('$R²$')\n",
    "plt.show()"
   ]
  },
  {
   "cell_type": "markdown",
   "id": "314ca77b",
   "metadata": {},
   "source": [
    "**Conclusion:** Both Lasso and Ridge with proper hyperparameter tuning give better results than plain ol' Linear Regression!"
   ]
  },
  {
   "cell_type": "code",
   "execution_count": 113,
   "id": "13c4f706",
   "metadata": {},
   "outputs": [
    {
     "name": "stdout",
     "output_type": "stream",
     "text": [
      "R² = 0.8964707714558111\n"
     ]
    }
   ],
   "source": [
    "# Once we have found the hyperparameter (alpha~1e-2=0.01)\n",
    "# make the model and train it on ALL the data\n",
    "# Then release it into the wild .....\n",
    "best_estimator = Pipeline([('make_higher_degree', PolynomialFeatures(degree=2)),\n",
    "                           ('scaler', s),\n",
    "                           ('ridge_regression', Ridge(alpha=4.0, max_iter=100000))])\n",
    "\n",
    "best_estimator.fit(X,y)\n",
    "print(f'R² = {best_estimator.score(X,y)}')"
   ]
  },
  {
   "cell_type": "markdown",
   "id": "654d5e82",
   "metadata": {},
   "source": [
    "Ahora queremos saber cuáles combinaciones de variables (o variables al cuadrado) fueron más importantes en la predicción, es decir, qué afecta más al valor predicho.\n",
    "\n",
    "-`get_feature_names_out()` → nos da los nombres de las variables creadas (como RM^2, RM LSTAT, etc.).\n",
    "\n",
    "-`.coef_ `→ nos da el peso (coeficiente) de cada variable."
   ]
  },
  {
   "cell_type": "code",
   "execution_count": 114,
   "id": "555854c8",
   "metadata": {},
   "outputs": [
    {
     "data": {
      "text/html": [
       "<div>\n",
       "<style scoped>\n",
       "    .dataframe tbody tr th:only-of-type {\n",
       "        vertical-align: middle;\n",
       "    }\n",
       "\n",
       "    .dataframe tbody tr th {\n",
       "        vertical-align: top;\n",
       "    }\n",
       "\n",
       "    .dataframe thead th {\n",
       "        text-align: right;\n",
       "    }\n",
       "</style>\n",
       "<table border=\"1\" class=\"dataframe\">\n",
       "  <thead>\n",
       "    <tr style=\"text-align: right;\">\n",
       "      <th></th>\n",
       "      <th>0</th>\n",
       "      <th>1</th>\n",
       "    </tr>\n",
       "  </thead>\n",
       "  <tbody>\n",
       "    <tr>\n",
       "      <th>73</th>\n",
       "      <td>RM TAX</td>\n",
       "      <td>-3.647230</td>\n",
       "    </tr>\n",
       "    <tr>\n",
       "      <th>76</th>\n",
       "      <td>RM LSTAT</td>\n",
       "      <td>-3.454818</td>\n",
       "    </tr>\n",
       "    <tr>\n",
       "      <th>74</th>\n",
       "      <td>RM PTRATIO</td>\n",
       "      <td>-2.986537</td>\n",
       "    </tr>\n",
       "    <tr>\n",
       "      <th>94</th>\n",
       "      <td>RAD LSTAT</td>\n",
       "      <td>-2.719593</td>\n",
       "    </tr>\n",
       "    <tr>\n",
       "      <th>52</th>\n",
       "      <td>CHAS RM</td>\n",
       "      <td>-2.560913</td>\n",
       "    </tr>\n",
       "    <tr>\n",
       "      <th>...</th>\n",
       "      <td>...</td>\n",
       "      <td>...</td>\n",
       "    </tr>\n",
       "    <tr>\n",
       "      <th>17</th>\n",
       "      <td>CRIM CHAS</td>\n",
       "      <td>2.453963</td>\n",
       "    </tr>\n",
       "    <tr>\n",
       "      <th>6</th>\n",
       "      <td>RM</td>\n",
       "      <td>2.635153</td>\n",
       "    </tr>\n",
       "    <tr>\n",
       "      <th>9</th>\n",
       "      <td>RAD</td>\n",
       "      <td>2.675497</td>\n",
       "    </tr>\n",
       "    <tr>\n",
       "      <th>104</th>\n",
       "      <td>LSTAT^2</td>\n",
       "      <td>4.634553</td>\n",
       "    </tr>\n",
       "    <tr>\n",
       "      <th>69</th>\n",
       "      <td>RM^2</td>\n",
       "      <td>5.691161</td>\n",
       "    </tr>\n",
       "  </tbody>\n",
       "</table>\n",
       "<p>105 rows × 2 columns</p>\n",
       "</div>"
      ],
      "text/plain": [
       "              0         1\n",
       "73       RM TAX -3.647230\n",
       "76     RM LSTAT -3.454818\n",
       "74   RM PTRATIO -2.986537\n",
       "94    RAD LSTAT -2.719593\n",
       "52      CHAS RM -2.560913\n",
       "..          ...       ...\n",
       "17    CRIM CHAS  2.453963\n",
       "6            RM  2.635153\n",
       "9           RAD  2.675497\n",
       "104     LSTAT^2  4.634553\n",
       "69         RM^2  5.691161\n",
       "\n",
       "[105 rows x 2 columns]"
      ]
     },
     "execution_count": 114,
     "metadata": {},
     "output_type": "execute_result"
    }
   ],
   "source": [
    "df_importances = pd.DataFrame(zip(best_estimator.named_steps['make_higher_degree'].get_feature_names_out(),\n",
    "                                  best_estimator.named_steps['ridge_regression'].coef_))\n",
    "\n",
    "df_importances.sort_values(by=1)"
   ]
  },
  {
   "cell_type": "code",
   "execution_count": 115,
   "id": "c9f32359",
   "metadata": {},
   "outputs": [
    {
     "data": {
      "text/plain": [
       "{0: 'CRIM',\n",
       " 1: 'ZN',\n",
       " 2: 'INDUS',\n",
       " 3: 'CHAS',\n",
       " 4: 'NOX',\n",
       " 5: 'RM',\n",
       " 6: 'AGE',\n",
       " 7: 'DIS',\n",
       " 8: 'RAD',\n",
       " 9: 'TAX',\n",
       " 10: 'PTRATIO',\n",
       " 11: 'B',\n",
       " 12: 'LSTAT'}"
      ]
     },
     "execution_count": 115,
     "metadata": {},
     "output_type": "execute_result"
    }
   ],
   "source": [
    "col_names_dict = dict(zip(list(range(len(X.columns.values))), X.columns.values))\n",
    "col_names_dict"
   ]
  },
  {
   "cell_type": "markdown",
   "id": "6d6206d9",
   "metadata": {},
   "source": [
    "### Grid Search CV\n",
    "\n",
    "To do cross-validation, we used two techniques:\n",
    "\n",
    "* use KFolds and manually create a loop to do cross-validation\n",
    "* use cross_val_predict and score to get a cross-valiated score in a couple of lines.\n",
    "\n",
    "To do hyper-parameter tuning, we see a general pattern:\n",
    "\n",
    "* use cross_val_predict and score in a manually written loop over hyperparemeters, then select the best one.\n",
    "\n",
    "Perhaps not surprisingly, there is a function that does this for us -- GridSearchCV\n",
    "\n",
    "* El mejor modelo usa polinomios de grado 2.\n",
    "\n",
    "* Y una regularización alpha = 4.7.\n",
    "\n",
    "* Con eso, se obtuvo un R² de 0.86 en validación cruzada, es decir, explica el 85% de la variación."
   ]
  },
  {
   "cell_type": "code",
   "execution_count": 116,
   "id": "06305276",
   "metadata": {},
   "outputs": [
    {
     "name": "stdout",
     "output_type": "stream",
     "text": [
      "{'polynomial_features__degree': 3, 'ridge_regression__alpha': np.float64(4.7384443148498585)}\n",
      "0.8624592560397512\n",
      "\n",
      "\n",
      "Columnas durante el ajuste:  ['1' 'CRIM' 'ZN' 'INDUS' 'CHAS' 'NOX' 'RM' 'AGE' 'DIS' 'RAD' 'TAX'\n",
      " 'PTRATIO' 'B' 'LSTAT' 'CRIM^2' 'CRIM ZN' 'CRIM INDUS' 'CRIM CHAS'\n",
      " 'CRIM NOX' 'CRIM RM' 'CRIM AGE' 'CRIM DIS' 'CRIM RAD' 'CRIM TAX'\n",
      " 'CRIM PTRATIO' 'CRIM B' 'CRIM LSTAT' 'ZN^2' 'ZN INDUS' 'ZN CHAS' 'ZN NOX'\n",
      " 'ZN RM' 'ZN AGE' 'ZN DIS' 'ZN RAD' 'ZN TAX' 'ZN PTRATIO' 'ZN B'\n",
      " 'ZN LSTAT' 'INDUS^2' 'INDUS CHAS' 'INDUS NOX' 'INDUS RM' 'INDUS AGE'\n",
      " 'INDUS DIS' 'INDUS RAD' 'INDUS TAX' 'INDUS PTRATIO' 'INDUS B'\n",
      " 'INDUS LSTAT' 'CHAS^2' 'CHAS NOX' 'CHAS RM' 'CHAS AGE' 'CHAS DIS'\n",
      " 'CHAS RAD' 'CHAS TAX' 'CHAS PTRATIO' 'CHAS B' 'CHAS LSTAT' 'NOX^2'\n",
      " 'NOX RM' 'NOX AGE' 'NOX DIS' 'NOX RAD' 'NOX TAX' 'NOX PTRATIO' 'NOX B'\n",
      " 'NOX LSTAT' 'RM^2' 'RM AGE' 'RM DIS' 'RM RAD' 'RM TAX' 'RM PTRATIO'\n",
      " 'RM B' 'RM LSTAT' 'AGE^2' 'AGE DIS' 'AGE RAD' 'AGE TAX' 'AGE PTRATIO'\n",
      " 'AGE B' 'AGE LSTAT' 'DIS^2' 'DIS RAD' 'DIS TAX' 'DIS PTRATIO' 'DIS B'\n",
      " 'DIS LSTAT' 'RAD^2' 'RAD TAX' 'RAD PTRATIO' 'RAD B' 'RAD LSTAT' 'TAX^2'\n",
      " 'TAX PTRATIO' 'TAX B' 'TAX LSTAT' 'PTRATIO^2' 'PTRATIO B' 'PTRATIO LSTAT'\n",
      " 'B^2' 'B LSTAT' 'LSTAT^2' 'CRIM^3' 'CRIM^2 ZN' 'CRIM^2 INDUS'\n",
      " 'CRIM^2 CHAS' 'CRIM^2 NOX' 'CRIM^2 RM' 'CRIM^2 AGE' 'CRIM^2 DIS'\n",
      " 'CRIM^2 RAD' 'CRIM^2 TAX' 'CRIM^2 PTRATIO' 'CRIM^2 B' 'CRIM^2 LSTAT'\n",
      " 'CRIM ZN^2' 'CRIM ZN INDUS' 'CRIM ZN CHAS' 'CRIM ZN NOX' 'CRIM ZN RM'\n",
      " 'CRIM ZN AGE' 'CRIM ZN DIS' 'CRIM ZN RAD' 'CRIM ZN TAX' 'CRIM ZN PTRATIO'\n",
      " 'CRIM ZN B' 'CRIM ZN LSTAT' 'CRIM INDUS^2' 'CRIM INDUS CHAS'\n",
      " 'CRIM INDUS NOX' 'CRIM INDUS RM' 'CRIM INDUS AGE' 'CRIM INDUS DIS'\n",
      " 'CRIM INDUS RAD' 'CRIM INDUS TAX' 'CRIM INDUS PTRATIO' 'CRIM INDUS B'\n",
      " 'CRIM INDUS LSTAT' 'CRIM CHAS^2' 'CRIM CHAS NOX' 'CRIM CHAS RM'\n",
      " 'CRIM CHAS AGE' 'CRIM CHAS DIS' 'CRIM CHAS RAD' 'CRIM CHAS TAX'\n",
      " 'CRIM CHAS PTRATIO' 'CRIM CHAS B' 'CRIM CHAS LSTAT' 'CRIM NOX^2'\n",
      " 'CRIM NOX RM' 'CRIM NOX AGE' 'CRIM NOX DIS' 'CRIM NOX RAD' 'CRIM NOX TAX'\n",
      " 'CRIM NOX PTRATIO' 'CRIM NOX B' 'CRIM NOX LSTAT' 'CRIM RM^2'\n",
      " 'CRIM RM AGE' 'CRIM RM DIS' 'CRIM RM RAD' 'CRIM RM TAX' 'CRIM RM PTRATIO'\n",
      " 'CRIM RM B' 'CRIM RM LSTAT' 'CRIM AGE^2' 'CRIM AGE DIS' 'CRIM AGE RAD'\n",
      " 'CRIM AGE TAX' 'CRIM AGE PTRATIO' 'CRIM AGE B' 'CRIM AGE LSTAT'\n",
      " 'CRIM DIS^2' 'CRIM DIS RAD' 'CRIM DIS TAX' 'CRIM DIS PTRATIO'\n",
      " 'CRIM DIS B' 'CRIM DIS LSTAT' 'CRIM RAD^2' 'CRIM RAD TAX'\n",
      " 'CRIM RAD PTRATIO' 'CRIM RAD B' 'CRIM RAD LSTAT' 'CRIM TAX^2'\n",
      " 'CRIM TAX PTRATIO' 'CRIM TAX B' 'CRIM TAX LSTAT' 'CRIM PTRATIO^2'\n",
      " 'CRIM PTRATIO B' 'CRIM PTRATIO LSTAT' 'CRIM B^2' 'CRIM B LSTAT'\n",
      " 'CRIM LSTAT^2' 'ZN^3' 'ZN^2 INDUS' 'ZN^2 CHAS' 'ZN^2 NOX' 'ZN^2 RM'\n",
      " 'ZN^2 AGE' 'ZN^2 DIS' 'ZN^2 RAD' 'ZN^2 TAX' 'ZN^2 PTRATIO' 'ZN^2 B'\n",
      " 'ZN^2 LSTAT' 'ZN INDUS^2' 'ZN INDUS CHAS' 'ZN INDUS NOX' 'ZN INDUS RM'\n",
      " 'ZN INDUS AGE' 'ZN INDUS DIS' 'ZN INDUS RAD' 'ZN INDUS TAX'\n",
      " 'ZN INDUS PTRATIO' 'ZN INDUS B' 'ZN INDUS LSTAT' 'ZN CHAS^2'\n",
      " 'ZN CHAS NOX' 'ZN CHAS RM' 'ZN CHAS AGE' 'ZN CHAS DIS' 'ZN CHAS RAD'\n",
      " 'ZN CHAS TAX' 'ZN CHAS PTRATIO' 'ZN CHAS B' 'ZN CHAS LSTAT' 'ZN NOX^2'\n",
      " 'ZN NOX RM' 'ZN NOX AGE' 'ZN NOX DIS' 'ZN NOX RAD' 'ZN NOX TAX'\n",
      " 'ZN NOX PTRATIO' 'ZN NOX B' 'ZN NOX LSTAT' 'ZN RM^2' 'ZN RM AGE'\n",
      " 'ZN RM DIS' 'ZN RM RAD' 'ZN RM TAX' 'ZN RM PTRATIO' 'ZN RM B'\n",
      " 'ZN RM LSTAT' 'ZN AGE^2' 'ZN AGE DIS' 'ZN AGE RAD' 'ZN AGE TAX'\n",
      " 'ZN AGE PTRATIO' 'ZN AGE B' 'ZN AGE LSTAT' 'ZN DIS^2' 'ZN DIS RAD'\n",
      " 'ZN DIS TAX' 'ZN DIS PTRATIO' 'ZN DIS B' 'ZN DIS LSTAT' 'ZN RAD^2'\n",
      " 'ZN RAD TAX' 'ZN RAD PTRATIO' 'ZN RAD B' 'ZN RAD LSTAT' 'ZN TAX^2'\n",
      " 'ZN TAX PTRATIO' 'ZN TAX B' 'ZN TAX LSTAT' 'ZN PTRATIO^2' 'ZN PTRATIO B'\n",
      " 'ZN PTRATIO LSTAT' 'ZN B^2' 'ZN B LSTAT' 'ZN LSTAT^2' 'INDUS^3'\n",
      " 'INDUS^2 CHAS' 'INDUS^2 NOX' 'INDUS^2 RM' 'INDUS^2 AGE' 'INDUS^2 DIS'\n",
      " 'INDUS^2 RAD' 'INDUS^2 TAX' 'INDUS^2 PTRATIO' 'INDUS^2 B' 'INDUS^2 LSTAT'\n",
      " 'INDUS CHAS^2' 'INDUS CHAS NOX' 'INDUS CHAS RM' 'INDUS CHAS AGE'\n",
      " 'INDUS CHAS DIS' 'INDUS CHAS RAD' 'INDUS CHAS TAX' 'INDUS CHAS PTRATIO'\n",
      " 'INDUS CHAS B' 'INDUS CHAS LSTAT' 'INDUS NOX^2' 'INDUS NOX RM'\n",
      " 'INDUS NOX AGE' 'INDUS NOX DIS' 'INDUS NOX RAD' 'INDUS NOX TAX'\n",
      " 'INDUS NOX PTRATIO' 'INDUS NOX B' 'INDUS NOX LSTAT' 'INDUS RM^2'\n",
      " 'INDUS RM AGE' 'INDUS RM DIS' 'INDUS RM RAD' 'INDUS RM TAX'\n",
      " 'INDUS RM PTRATIO' 'INDUS RM B' 'INDUS RM LSTAT' 'INDUS AGE^2'\n",
      " 'INDUS AGE DIS' 'INDUS AGE RAD' 'INDUS AGE TAX' 'INDUS AGE PTRATIO'\n",
      " 'INDUS AGE B' 'INDUS AGE LSTAT' 'INDUS DIS^2' 'INDUS DIS RAD'\n",
      " 'INDUS DIS TAX' 'INDUS DIS PTRATIO' 'INDUS DIS B' 'INDUS DIS LSTAT'\n",
      " 'INDUS RAD^2' 'INDUS RAD TAX' 'INDUS RAD PTRATIO' 'INDUS RAD B'\n",
      " 'INDUS RAD LSTAT' 'INDUS TAX^2' 'INDUS TAX PTRATIO' 'INDUS TAX B'\n",
      " 'INDUS TAX LSTAT' 'INDUS PTRATIO^2' 'INDUS PTRATIO B'\n",
      " 'INDUS PTRATIO LSTAT' 'INDUS B^2' 'INDUS B LSTAT' 'INDUS LSTAT^2'\n",
      " 'CHAS^3' 'CHAS^2 NOX' 'CHAS^2 RM' 'CHAS^2 AGE' 'CHAS^2 DIS' 'CHAS^2 RAD'\n",
      " 'CHAS^2 TAX' 'CHAS^2 PTRATIO' 'CHAS^2 B' 'CHAS^2 LSTAT' 'CHAS NOX^2'\n",
      " 'CHAS NOX RM' 'CHAS NOX AGE' 'CHAS NOX DIS' 'CHAS NOX RAD' 'CHAS NOX TAX'\n",
      " 'CHAS NOX PTRATIO' 'CHAS NOX B' 'CHAS NOX LSTAT' 'CHAS RM^2'\n",
      " 'CHAS RM AGE' 'CHAS RM DIS' 'CHAS RM RAD' 'CHAS RM TAX' 'CHAS RM PTRATIO'\n",
      " 'CHAS RM B' 'CHAS RM LSTAT' 'CHAS AGE^2' 'CHAS AGE DIS' 'CHAS AGE RAD'\n",
      " 'CHAS AGE TAX' 'CHAS AGE PTRATIO' 'CHAS AGE B' 'CHAS AGE LSTAT'\n",
      " 'CHAS DIS^2' 'CHAS DIS RAD' 'CHAS DIS TAX' 'CHAS DIS PTRATIO'\n",
      " 'CHAS DIS B' 'CHAS DIS LSTAT' 'CHAS RAD^2' 'CHAS RAD TAX'\n",
      " 'CHAS RAD PTRATIO' 'CHAS RAD B' 'CHAS RAD LSTAT' 'CHAS TAX^2'\n",
      " 'CHAS TAX PTRATIO' 'CHAS TAX B' 'CHAS TAX LSTAT' 'CHAS PTRATIO^2'\n",
      " 'CHAS PTRATIO B' 'CHAS PTRATIO LSTAT' 'CHAS B^2' 'CHAS B LSTAT'\n",
      " 'CHAS LSTAT^2' 'NOX^3' 'NOX^2 RM' 'NOX^2 AGE' 'NOX^2 DIS' 'NOX^2 RAD'\n",
      " 'NOX^2 TAX' 'NOX^2 PTRATIO' 'NOX^2 B' 'NOX^2 LSTAT' 'NOX RM^2'\n",
      " 'NOX RM AGE' 'NOX RM DIS' 'NOX RM RAD' 'NOX RM TAX' 'NOX RM PTRATIO'\n",
      " 'NOX RM B' 'NOX RM LSTAT' 'NOX AGE^2' 'NOX AGE DIS' 'NOX AGE RAD'\n",
      " 'NOX AGE TAX' 'NOX AGE PTRATIO' 'NOX AGE B' 'NOX AGE LSTAT' 'NOX DIS^2'\n",
      " 'NOX DIS RAD' 'NOX DIS TAX' 'NOX DIS PTRATIO' 'NOX DIS B' 'NOX DIS LSTAT'\n",
      " 'NOX RAD^2' 'NOX RAD TAX' 'NOX RAD PTRATIO' 'NOX RAD B' 'NOX RAD LSTAT'\n",
      " 'NOX TAX^2' 'NOX TAX PTRATIO' 'NOX TAX B' 'NOX TAX LSTAT' 'NOX PTRATIO^2'\n",
      " 'NOX PTRATIO B' 'NOX PTRATIO LSTAT' 'NOX B^2' 'NOX B LSTAT' 'NOX LSTAT^2'\n",
      " 'RM^3' 'RM^2 AGE' 'RM^2 DIS' 'RM^2 RAD' 'RM^2 TAX' 'RM^2 PTRATIO'\n",
      " 'RM^2 B' 'RM^2 LSTAT' 'RM AGE^2' 'RM AGE DIS' 'RM AGE RAD' 'RM AGE TAX'\n",
      " 'RM AGE PTRATIO' 'RM AGE B' 'RM AGE LSTAT' 'RM DIS^2' 'RM DIS RAD'\n",
      " 'RM DIS TAX' 'RM DIS PTRATIO' 'RM DIS B' 'RM DIS LSTAT' 'RM RAD^2'\n",
      " 'RM RAD TAX' 'RM RAD PTRATIO' 'RM RAD B' 'RM RAD LSTAT' 'RM TAX^2'\n",
      " 'RM TAX PTRATIO' 'RM TAX B' 'RM TAX LSTAT' 'RM PTRATIO^2' 'RM PTRATIO B'\n",
      " 'RM PTRATIO LSTAT' 'RM B^2' 'RM B LSTAT' 'RM LSTAT^2' 'AGE^3' 'AGE^2 DIS'\n",
      " 'AGE^2 RAD' 'AGE^2 TAX' 'AGE^2 PTRATIO' 'AGE^2 B' 'AGE^2 LSTAT'\n",
      " 'AGE DIS^2' 'AGE DIS RAD' 'AGE DIS TAX' 'AGE DIS PTRATIO' 'AGE DIS B'\n",
      " 'AGE DIS LSTAT' 'AGE RAD^2' 'AGE RAD TAX' 'AGE RAD PTRATIO' 'AGE RAD B'\n",
      " 'AGE RAD LSTAT' 'AGE TAX^2' 'AGE TAX PTRATIO' 'AGE TAX B' 'AGE TAX LSTAT'\n",
      " 'AGE PTRATIO^2' 'AGE PTRATIO B' 'AGE PTRATIO LSTAT' 'AGE B^2'\n",
      " 'AGE B LSTAT' 'AGE LSTAT^2' 'DIS^3' 'DIS^2 RAD' 'DIS^2 TAX'\n",
      " 'DIS^2 PTRATIO' 'DIS^2 B' 'DIS^2 LSTAT' 'DIS RAD^2' 'DIS RAD TAX'\n",
      " 'DIS RAD PTRATIO' 'DIS RAD B' 'DIS RAD LSTAT' 'DIS TAX^2'\n",
      " 'DIS TAX PTRATIO' 'DIS TAX B' 'DIS TAX LSTAT' 'DIS PTRATIO^2'\n",
      " 'DIS PTRATIO B' 'DIS PTRATIO LSTAT' 'DIS B^2' 'DIS B LSTAT' 'DIS LSTAT^2'\n",
      " 'RAD^3' 'RAD^2 TAX' 'RAD^2 PTRATIO' 'RAD^2 B' 'RAD^2 LSTAT' 'RAD TAX^2'\n",
      " 'RAD TAX PTRATIO' 'RAD TAX B' 'RAD TAX LSTAT' 'RAD PTRATIO^2'\n",
      " 'RAD PTRATIO B' 'RAD PTRATIO LSTAT' 'RAD B^2' 'RAD B LSTAT' 'RAD LSTAT^2'\n",
      " 'TAX^3' 'TAX^2 PTRATIO' 'TAX^2 B' 'TAX^2 LSTAT' 'TAX PTRATIO^2'\n",
      " 'TAX PTRATIO B' 'TAX PTRATIO LSTAT' 'TAX B^2' 'TAX B LSTAT' 'TAX LSTAT^2'\n",
      " 'PTRATIO^3' 'PTRATIO^2 B' 'PTRATIO^2 LSTAT' 'PTRATIO B^2'\n",
      " 'PTRATIO B LSTAT' 'PTRATIO LSTAT^2' 'B^3' 'B^2 LSTAT' 'B LSTAT^2'\n",
      " 'LSTAT^3']\n",
      "\n",
      "\n",
      "Columnas durante la predicción: Index(['CRIM', 'ZN', 'INDUS', 'CHAS', 'NOX', 'RM', 'AGE', 'DIS', 'RAD', 'TAX',\n",
      "       'PTRATIO', 'B', 'LSTAT'],\n",
      "      dtype='object')\n"
     ]
    }
   ],
   "source": [
    "estimator = Pipeline([('polynomial_features', PolynomialFeatures()),\n",
    "                      ('scaler', StandardScaler()),\n",
    "                      ('ridge_regression', Ridge())])\n",
    "\n",
    "params = {'polynomial_features__degree': [1,2,3],\n",
    "          'ridge_regression__alpha': np.geomspace(4,20,20)}\n",
    "\n",
    "grid = GridSearchCV(estimator, params, cv=kf)\n",
    "grid.fit(X,y)\n",
    "\n",
    "print(grid.best_params_)\n",
    "print(grid.best_score_)\n",
    "print('\\n')\n",
    "print('Columnas durante el ajuste: ', grid.best_estimator_.named_steps['polynomial_features'].get_feature_names_out())\n",
    "print('\\n')\n",
    "print(f'Columnas durante la predicción: {X.columns}')"
   ]
  },
  {
   "cell_type": "code",
   "execution_count": 117,
   "id": "1eac3aa0",
   "metadata": {},
   "outputs": [
    {
     "name": "stdout",
     "output_type": "stream",
     "text": [
      "R² = 0.9349806002008593\n"
     ]
    }
   ],
   "source": [
    "y_predict = grid.predict(X)\n",
    "\n",
    "# This include both in-sample and out-of-sample\n",
    "print(f'R² = {r2_score(y,y_predict)}')\n"
   ]
  },
  {
   "cell_type": "code",
   "execution_count": 118,
   "id": "e9ab9591",
   "metadata": {},
   "outputs": [
    {
     "data": {
      "text/plain": [
       "0.9529620397156615"
      ]
     },
     "execution_count": 118,
     "metadata": {},
     "output_type": "execute_result"
    }
   ],
   "source": [
    "y_pred_test = grid.predict(X_test)\n",
    "r2_score(y_test, y_pred_test)"
   ]
  },
  {
   "cell_type": "code",
   "execution_count": 119,
   "id": "e5f5f966",
   "metadata": {},
   "outputs": [
    {
     "data": {
      "text/plain": [
       "array([ 0.00000000e+00,  7.10642752e-02, -3.94067933e-01, -2.40747096e-01,\n",
       "        1.05757704e-01,  1.56430364e-01,  2.01219849e+00,  1.00609105e+00,\n",
       "       -1.23227869e+00,  1.23100956e+00,  2.44633693e-01, -2.82042073e-02,\n",
       "        7.92026620e-01,  1.49261631e-01,  7.42777765e-02, -7.67680505e-02,\n",
       "        1.60518250e-01,  9.62567650e-01, -2.18206542e-01,  1.09968700e-01,\n",
       "       -6.68084136e-02, -2.00864043e-01, -9.03071457e-02,  1.84076699e-02,\n",
       "        3.48128713e-02,  2.70622454e-01,  1.24754852e-01, -6.31812716e-02,\n",
       "       -3.15866932e-01, -2.55345731e-02, -1.86387862e-01,  2.74656114e-02,\n",
       "       -1.35438230e-01, -2.77781497e-01, -9.17960312e-02, -1.42126834e-01,\n",
       "       -7.94448295e-02, -2.47417278e-01, -4.53207406e-01,  3.24127067e-01,\n",
       "       -6.37660601e-02, -1.87045955e-02,  1.11913822e-02,  3.02656343e-01,\n",
       "       -1.00638431e+00,  6.31972538e-01,  5.96821908e-01, -3.26916364e-01,\n",
       "        1.89993312e-01, -7.32188863e-01,  1.05757704e-01, -6.02199027e-02,\n",
       "       -1.33256865e-01,  6.33439001e-02,  2.15089859e-01,  1.27346377e-02,\n",
       "        1.32483580e-01,  4.69223346e-02,  1.37419185e-01, -2.87662894e-03,\n",
       "        1.08350390e-02,  6.54383871e-01,  5.14632584e-02, -8.92200145e-01,\n",
       "        4.43879110e-01,  2.23055742e-02, -4.33397488e-01,  4.69395523e-01,\n",
       "        2.62008045e-01,  2.25137523e+00,  2.73465167e-01, -3.71000665e-01,\n",
       "        3.28680570e-01, -4.33746131e-01, -1.86383272e-01,  1.01090841e+00,\n",
       "       -3.75761633e-01,  6.06318817e-01,  8.52519004e-02,  1.23596636e+00,\n",
       "        3.16282754e-01,  5.38677278e-01,  3.21071327e-01,  1.16931766e-01,\n",
       "       -1.62066504e-01, -1.34400757e-01, -8.82768741e-01, -6.06553025e-01,\n",
       "       -6.67627751e-01, -5.67002615e-01, -9.32725020e-03,  5.76994206e-01,\n",
       "        1.06725598e+00,  1.14042226e+00, -2.98446646e-01,  2.26115443e-01,\n",
       "        6.98164373e-01,  4.21675566e-01, -3.62011314e-01,  1.98751451e-01,\n",
       "        4.40393633e-01,  2.19689352e-01,  2.26175523e-01,  3.37897863e-01,\n",
       "        7.65065886e-01, -4.60007443e-02, -7.04811193e-01,  8.03734727e-02,\n",
       "       -2.02207155e-01,  1.32824089e-01,  2.19797096e-01, -9.54559626e-02,\n",
       "        7.19924384e-01,  7.02216451e-02,  7.36483492e-02,  7.14220820e-02,\n",
       "        2.12936368e-01,  2.09039980e-01, -3.07038556e-01,  2.24880345e-01,\n",
       "       -2.05614817e-01,  7.31366492e-02, -3.07583293e-01,  5.79542813e-02,\n",
       "        7.31251222e-02,  1.85110689e-01,  8.07721094e-01,  4.20943533e-02,\n",
       "       -6.82939699e-02,  1.12531175e-01,  2.38216028e-01,  1.05685811e+00,\n",
       "       -1.34653746e-01,  2.14018585e-01,  5.09767461e-02, -9.43907217e-02,\n",
       "       -7.74568771e-02,  6.25746129e-02,  1.13307184e-01,  3.40238878e-01,\n",
       "        2.39065721e-01,  9.62567650e-01,  3.05286657e-01, -5.88823958e-01,\n",
       "        5.17787290e-01, -7.55578561e-01,  2.63910809e-02,  5.16901033e-01,\n",
       "        6.52414966e-01,  3.00799805e-01, -1.40387240e+00, -4.59760021e-01,\n",
       "       -1.52567953e-01, -4.65734521e-01, -9.22542490e-02, -4.42435434e-01,\n",
       "       -3.07017450e-01, -2.75586097e-01, -2.10622856e-01, -2.72291418e-01,\n",
       "       -2.33274647e-01, -1.69616196e-02, -5.67857564e-02, -1.52582602e-01,\n",
       "        7.48291840e-03,  3.81047802e-02, -5.90994921e-01,  8.25873599e-01,\n",
       "       -1.86465655e-01, -8.58254933e-01, -1.83087369e-01, -9.44794584e-02,\n",
       "       -1.05693702e-01, -4.14488711e-01, -6.01933239e-02,  8.18309921e-01,\n",
       "       -3.49439388e-01, -2.27724907e-01, -2.02470086e-01,  5.94425948e-02,\n",
       "        2.59606275e-01, -1.30803077e-01, -1.06034130e-01, -9.90230165e-02,\n",
       "       -3.94598219e-02,  1.46610727e-01, -3.13114749e-02, -5.35106973e-03,\n",
       "        1.39529350e-01,  1.66772836e-01,  1.48546681e-02,  2.10968081e-01,\n",
       "        1.11379577e-01, -6.68750298e-01,  4.73821669e-01, -2.87661853e-01,\n",
       "        6.96452895e-01, -1.91102083e-01, -2.09998173e-01, -4.59894125e-02,\n",
       "        3.71180057e-01,  2.25415949e-01, -2.68050273e-01, -3.66475205e-01,\n",
       "       -5.08549696e-01,  3.04734112e-01,  9.26927311e-02,  3.01166707e-02,\n",
       "       -2.36863863e-01, -7.46825139e-02, -8.37259008e-02, -1.31587919e-01,\n",
       "        3.17521908e-01,  4.13039715e-01,  5.11046241e-03,  7.14581556e-01,\n",
       "       -4.70215485e-01, -2.56666210e-01,  1.99290311e-01, -2.55345731e-02,\n",
       "       -1.45914495e-02, -2.50379290e-02,  9.30876051e-02, -2.43853992e-02,\n",
       "        3.62480652e-01, -2.21478036e-02, -4.94196051e-02, -3.96732856e-02,\n",
       "       -2.16113258e-01,  7.77808237e-02,  2.04924943e-01,  1.22243667e-01,\n",
       "       -8.48937965e-02,  3.28044510e-01,  2.38792375e-01,  3.08017629e-02,\n",
       "       -5.80897275e-02, -1.51933217e-01,  5.10821456e-01,  3.02663214e-02,\n",
       "       -1.13703424e-02,  3.58437226e-01,  1.34887863e-01,  2.86334924e-01,\n",
       "        1.57490087e-01, -6.49826208e-01, -3.55329152e-01,  1.52404822e-01,\n",
       "       -1.37348619e-01,  8.03333848e-02, -1.34289925e-01, -9.92833483e-02,\n",
       "       -4.11003457e-02, -4.09414414e-01, -1.65718063e-01, -2.52516227e-01,\n",
       "        3.71041440e-01, -6.96309987e-02,  1.12453898e-01, -5.11444231e-01,\n",
       "        3.33678418e-01, -7.02929461e-02,  3.61228285e-02, -5.06592517e-01,\n",
       "        5.50920757e-01,  4.01097227e-01,  3.20575990e-02,  2.35821895e-01,\n",
       "        1.76714422e-01,  5.91505226e-02,  1.44079521e-01, -1.13695022e-01,\n",
       "       -2.56661094e-01,  3.49603572e-01, -1.13568003e-01,  3.02722542e-02,\n",
       "        3.28428313e-01,  7.53758440e-01,  4.72380952e-01,  6.25345725e-01,\n",
       "        4.63124854e-01,  1.51804927e-01,  2.56750703e-01,  7.39755702e-01,\n",
       "       -1.25943941e+00, -6.37660601e-02, -1.61774052e-01, -3.13441874e-01,\n",
       "        1.29508895e-01,  1.97420441e-01, -1.01711037e-01,  5.92126749e-02,\n",
       "       -1.18350368e-01,  1.05102861e-01,  9.69159176e-03,  5.44454877e-02,\n",
       "        7.18671476e-02, -8.97383213e-02,  6.48879101e-01,  3.69671436e-02,\n",
       "        2.51602069e-01, -2.49732100e-01,  1.66771863e-01, -5.44919484e-01,\n",
       "        2.16035359e-01,  3.83333825e-01, -5.30114054e-01, -2.30291525e-01,\n",
       "        3.12011628e-01, -6.86478378e-01,  1.03242497e-01, -1.04992685e+00,\n",
       "        2.64753622e-01, -6.16217844e-02,  8.69519000e-01,  6.32213385e-01,\n",
       "        1.78516821e-01, -3.14035053e-01, -1.04658362e+00,  8.31024876e-01,\n",
       "       -3.61056262e-01,  6.96194546e-01, -8.33657315e-01, -3.91352115e-01,\n",
       "        1.31164006e+00, -5.42498716e-02,  2.72069481e-01,  5.84193414e-01,\n",
       "        5.03617157e-01, -7.58316179e-01,  1.99455342e-02,  5.76840180e-01,\n",
       "        8.14288099e-01, -1.00745477e+00, -2.52987801e-01, -1.51929883e-01,\n",
       "       -5.52340518e-01, -2.15450192e-01, -1.15073936e+00,  7.68847644e-01,\n",
       "        1.05757704e-01, -6.02199027e-02, -1.33256865e-01,  6.33439001e-02,\n",
       "        2.15089859e-01,  1.27346377e-02,  1.32483580e-01,  4.69223346e-02,\n",
       "        1.37419185e-01, -2.87662894e-03, -2.04300874e-01, -4.56103982e-01,\n",
       "       -6.02966904e-02,  2.31497676e-01, -2.84812443e-01, -1.03051637e-01,\n",
       "       -1.47728365e-01, -8.81699954e-02,  2.90799651e-02, -5.56952418e-01,\n",
       "       -9.05478957e-02,  2.51707837e-01, -2.22336961e+00, -1.00709464e+00,\n",
       "       -6.05326406e-01, -1.82536378e-02, -1.92231533e-01,  1.05823700e-01,\n",
       "        9.61004984e-02, -8.01945642e-02,  1.58058033e-01, -6.05257529e-03,\n",
       "        1.60017611e-01, -1.00285055e-01,  2.88973087e-01,  1.97877966e-01,\n",
       "        3.87713454e-01,  1.37649947e-01,  2.65269894e-01, -1.49643325e-01,\n",
       "       -7.76704994e-02, -3.52099692e-02, -2.47985526e-02,  7.35163590e-02,\n",
       "        6.40820340e-01,  9.10175272e-02,  6.72207679e-02,  2.34471050e-01,\n",
       "        2.88013100e-01,  1.16962247e-03,  6.73769777e-02,  1.09031102e-01,\n",
       "        4.27701760e-01, -1.87953886e-01, -9.89552945e-02, -3.52853398e-02,\n",
       "       -1.07976350e-01, -5.46482500e-01,  2.78528807e-01, -2.82601176e-01,\n",
       "       -2.78831522e-01, -6.20169147e-01,  4.79982691e-03,  4.53101983e-01,\n",
       "        7.51545592e-01, -6.24613689e-01,  1.26854073e-01, -3.51925198e-01,\n",
       "       -5.84296973e-01, -1.03074271e+00,  2.24111319e-01, -1.17057847e-01,\n",
       "       -3.13435145e-01,  2.35992892e-01,  1.15378912e-01, -4.14849262e-01,\n",
       "       -4.63450943e-01, -6.35521463e-01, -2.18487330e-01,  6.60995517e-02,\n",
       "        5.43970664e-01,  3.74032152e-01, -4.00762566e-01, -4.06047153e-01,\n",
       "        9.49966968e-01, -5.81432754e-01, -8.15971502e-02,  2.87927821e-01,\n",
       "        5.08453369e-02, -9.87004010e-01, -2.25486022e-01,  1.39243152e-01,\n",
       "       -1.16627950e-01, -6.42032049e-01, -5.37994108e-01, -3.22961290e-01,\n",
       "        1.53683357e-02,  3.93828579e-02,  3.75126490e-01,  8.50515832e-01,\n",
       "        2.51765900e+00, -5.31290059e-01,  6.66686027e-01, -1.12898266e+00,\n",
       "       -1.41793259e+00, -1.74468934e-01,  1.27213263e+00, -1.15335072e+00,\n",
       "       -2.87996729e-01,  1.44725893e-01,  9.71799171e-02, -6.71400209e-01,\n",
       "       -7.44506112e-01, -8.02112833e-01, -4.61768837e-01,  2.16888992e-01,\n",
       "       -5.29533299e-01, -7.91845263e-01, -2.74165572e-02, -9.15875400e-04,\n",
       "       -8.61546452e-01, -1.09015298e+00, -4.27664496e-01,  4.32870635e-02,\n",
       "       -2.32684358e-01, -3.43627921e-01, -6.20333731e-01, -3.76296102e-01,\n",
       "       -7.54468000e-01, -6.93066417e-01, -9.32054356e-01, -2.03903526e-01,\n",
       "       -2.74563742e-01,  1.55421099e-01, -6.33040846e-01,  4.90353621e-01,\n",
       "        7.88962798e-01, -8.33159228e-01,  1.28276174e+00,  2.88334580e-01,\n",
       "        2.41274738e-01, -6.68969727e-01, -4.90930428e-01,  1.49287835e+00,\n",
       "       -4.14873086e-01, -1.28006799e+00,  2.43542890e-02,  4.02995290e-01,\n",
       "       -1.94261079e-02,  2.51067680e-01,  6.77884008e-01,  1.11881044e+00,\n",
       "       -3.13025224e-01, -5.89668603e-01,  1.21623012e-01,  4.49610230e-01,\n",
       "       -9.77296384e-01, -7.61904484e-01,  3.14041780e-01, -3.86163727e-01,\n",
       "       -5.19942319e-02, -1.66137183e-01, -6.69988300e-01,  7.13347630e-01,\n",
       "        3.82177236e-01,  4.96954999e-01,  4.05867035e-01,  6.46931850e-01,\n",
       "        1.19303438e-01, -2.79027075e-01, -1.23649674e+00, -3.31157640e-01,\n",
       "       -1.50707432e-01, -2.43086219e-01,  1.69925455e+00, -3.02067293e-01,\n",
       "        3.94326148e-01, -4.07424784e-01,  1.49002871e+00,  2.26619728e-02,\n",
       "       -1.32892489e-01,  1.11953882e-01, -2.34611047e-01,  3.32686016e-01,\n",
       "       -1.43867839e+00, -2.19477281e-01, -8.07191430e-02, -3.24769538e-02,\n",
       "       -3.72994005e-01, -1.03220730e+00,  2.16123542e-01,  5.48209661e-01,\n",
       "        3.59662877e-01, -7.21542261e-01,  9.85546017e-01,  9.15173471e-01,\n",
       "       -3.43477590e-01,  5.37889315e-02, -1.76550078e+00,  6.19047619e-01,\n",
       "       -1.52508496e-01,  4.78637774e-01,  1.87069822e-01, -9.43421967e-01,\n",
       "        1.09385002e+00,  7.10398090e-01, -1.64185969e-01, -4.75295703e-01,\n",
       "       -1.18328212e+00,  7.54983077e-01,  4.52224665e-01,  3.27969958e-01,\n",
       "        2.95821792e-01, -2.81280566e-01,  2.23272013e-01,  5.35796910e-01,\n",
       "       -5.42186439e-01,  8.20316584e-01,  1.07464737e+00,  3.23125039e-01])"
      ]
     },
     "execution_count": 119,
     "metadata": {},
     "output_type": "execute_result"
    }
   ],
   "source": [
    "# Notice that \"grid\" is a fit object!\n",
    "# We can use grid.predict(X_test) to get brand new predictions!\n",
    "grid.best_estimator_.named_steps['ridge_regression'].coef_"
   ]
  }
 ],
 "metadata": {
  "kernelspec": {
   "display_name": "portfolio",
   "language": "python",
   "name": "python3"
  },
  "language_info": {
   "codemirror_mode": {
    "name": "ipython",
    "version": 3
   },
   "file_extension": ".py",
   "mimetype": "text/x-python",
   "name": "python",
   "nbconvert_exporter": "python",
   "pygments_lexer": "ipython3",
   "version": "3.10.4"
  }
 },
 "nbformat": 4,
 "nbformat_minor": 5
}
